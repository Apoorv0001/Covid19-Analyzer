{
  "nbformat": 4,
  "nbformat_minor": 0,
  "metadata": {
    "colab": {
      "name": "Covid19india.ipynb",
      "provenance": [],
      "collapsed_sections": [],
      "authorship_tag": "ABX9TyNkp/lWW4bWiQscIx5fv0Pa",
      "include_colab_link": true
    },
    "kernelspec": {
      "name": "python3",
      "display_name": "Python 3"
    },
    "language_info": {
      "name": "python"
    }
  },
  "cells": [
    {
      "cell_type": "markdown",
      "metadata": {
        "id": "view-in-github",
        "colab_type": "text"
      },
      "source": [
        "<a href=\"https://colab.research.google.com/github/Apoorv0001/Covid19-Analyzer/blob/main/Covid19india.ipynb\" target=\"_parent\"><img src=\"https://colab.research.google.com/assets/colab-badge.svg\" alt=\"Open In Colab\"/></a>"
      ]
    },
    {
      "cell_type": "markdown",
      "metadata": {
        "id": "_HX7p5wc3PJs"
      },
      "source": [
        "# Prediction of Confirmed Cases of India Using LINEAR REGRESSION ALGORITHM"
      ]
    },
    {
      "cell_type": "code",
      "metadata": {
        "id": "STu1Z8XC11TN"
      },
      "source": [
        "import pandas as pd\n",
        "import matplotlib.pyplot as plt\n",
        "import numpy as np\n",
        "from sklearn.model_selection import train_test_split\n",
        "from sklearn.linear_model import LinearRegression\n",
        "from sklearn.ensemble import RandomForestRegressor\n",
        "from sklearn.metrics import confusion_matrix\n",
        "from sklearn.metrics import r2_score\n",
        "from sklearn.tree import DecisionTreeRegressor\n"
      ],
      "execution_count": 215,
      "outputs": []
    },
    {
      "cell_type": "code",
      "metadata": {
        "colab": {
          "base_uri": "https://localhost:8080/",
          "height": 1000
        },
        "id": "4Wq6b5yt2S-7",
        "outputId": "c122608b-2502-4ffe-d1f6-c072fafbc0a7"
      },
      "source": [
        "data= pd.read_csv(\"Covid19_India11.csv\")\n",
        "data"
      ],
      "execution_count": 216,
      "outputs": [
        {
          "output_type": "execute_result",
          "data": {
            "text/html": [
              "<div>\n",
              "<style scoped>\n",
              "    .dataframe tbody tr th:only-of-type {\n",
              "        vertical-align: middle;\n",
              "    }\n",
              "\n",
              "    .dataframe tbody tr th {\n",
              "        vertical-align: top;\n",
              "    }\n",
              "\n",
              "    .dataframe thead th {\n",
              "        text-align: right;\n",
              "    }\n",
              "</style>\n",
              "<table border=\"1\" class=\"dataframe\">\n",
              "  <thead>\n",
              "    <tr style=\"text-align: right;\">\n",
              "      <th></th>\n",
              "      <th>Date</th>\n",
              "      <th>Counting_from_August</th>\n",
              "      <th>Confirmed Cases</th>\n",
              "      <th>Recovered Cases</th>\n",
              "      <th>Deceased Cases</th>\n",
              "    </tr>\n",
              "  </thead>\n",
              "  <tbody>\n",
              "    <tr>\n",
              "      <th>0</th>\n",
              "      <td>2020-8-1</td>\n",
              "      <td>1</td>\n",
              "      <td>1752171</td>\n",
              "      <td>1146913</td>\n",
              "      <td>37408</td>\n",
              "    </tr>\n",
              "    <tr>\n",
              "      <th>1</th>\n",
              "      <td>2020-8-2</td>\n",
              "      <td>2</td>\n",
              "      <td>1804843</td>\n",
              "      <td>1187268</td>\n",
              "      <td>38168</td>\n",
              "    </tr>\n",
              "    <tr>\n",
              "      <th>2</th>\n",
              "      <td>2020-8-3</td>\n",
              "      <td>3</td>\n",
              "      <td>1855331</td>\n",
              "      <td>1230338</td>\n",
              "      <td>38974</td>\n",
              "    </tr>\n",
              "    <tr>\n",
              "      <th>3</th>\n",
              "      <td>2020-8-4</td>\n",
              "      <td>4</td>\n",
              "      <td>1906613</td>\n",
              "      <td>1281558</td>\n",
              "      <td>39823</td>\n",
              "    </tr>\n",
              "    <tr>\n",
              "      <th>4</th>\n",
              "      <td>2020-8-5</td>\n",
              "      <td>5</td>\n",
              "      <td>1963239</td>\n",
              "      <td>1327141</td>\n",
              "      <td>40742</td>\n",
              "    </tr>\n",
              "    <tr>\n",
              "      <th>5</th>\n",
              "      <td>2020-8-6</td>\n",
              "      <td>6</td>\n",
              "      <td>2025409</td>\n",
              "      <td>1377282</td>\n",
              "      <td>41641</td>\n",
              "    </tr>\n",
              "    <tr>\n",
              "      <th>6</th>\n",
              "      <td>2020-8-7</td>\n",
              "      <td>7</td>\n",
              "      <td>2086864</td>\n",
              "      <td>1427669</td>\n",
              "      <td>42577</td>\n",
              "    </tr>\n",
              "    <tr>\n",
              "      <th>7</th>\n",
              "      <td>2020-8-8</td>\n",
              "      <td>8</td>\n",
              "      <td>2152020</td>\n",
              "      <td>1479804</td>\n",
              "      <td>43452</td>\n",
              "    </tr>\n",
              "    <tr>\n",
              "      <th>8</th>\n",
              "      <td>2020-8-9</td>\n",
              "      <td>9</td>\n",
              "      <td>2214137</td>\n",
              "      <td>1534278</td>\n",
              "      <td>44465</td>\n",
              "    </tr>\n",
              "    <tr>\n",
              "      <th>9</th>\n",
              "      <td>2020-8-10</td>\n",
              "      <td>10</td>\n",
              "      <td>2267153</td>\n",
              "      <td>1581640</td>\n",
              "      <td>45352</td>\n",
              "    </tr>\n",
              "    <tr>\n",
              "      <th>10</th>\n",
              "      <td>2020-8-11</td>\n",
              "      <td>11</td>\n",
              "      <td>2328405</td>\n",
              "      <td>1638101</td>\n",
              "      <td>46187</td>\n",
              "    </tr>\n",
              "    <tr>\n",
              "      <th>11</th>\n",
              "      <td>2020-8-12</td>\n",
              "      <td>12</td>\n",
              "      <td>2395471</td>\n",
              "      <td>1695860</td>\n",
              "      <td>47137</td>\n",
              "    </tr>\n",
              "    <tr>\n",
              "      <th>12</th>\n",
              "      <td>2020-8-13</td>\n",
              "      <td>13</td>\n",
              "      <td>2459612</td>\n",
              "      <td>1750636</td>\n",
              "      <td>48143</td>\n",
              "    </tr>\n",
              "    <tr>\n",
              "      <th>13</th>\n",
              "      <td>2020-8-14</td>\n",
              "      <td>14</td>\n",
              "      <td>2525222</td>\n",
              "      <td>1807556</td>\n",
              "      <td>49132</td>\n",
              "    </tr>\n",
              "    <tr>\n",
              "      <th>14</th>\n",
              "      <td>2020-8-15</td>\n",
              "      <td>15</td>\n",
              "      <td>2589208</td>\n",
              "      <td>1860672</td>\n",
              "      <td>50084</td>\n",
              "    </tr>\n",
              "    <tr>\n",
              "      <th>15</th>\n",
              "      <td>2020-8-16</td>\n",
              "      <td>16</td>\n",
              "      <td>2647304</td>\n",
              "      <td>1918076</td>\n",
              "      <td>51036</td>\n",
              "    </tr>\n",
              "    <tr>\n",
              "      <th>16</th>\n",
              "      <td>2020-8-17</td>\n",
              "      <td>17</td>\n",
              "      <td>2701602</td>\n",
              "      <td>1976248</td>\n",
              "      <td>51916</td>\n",
              "    </tr>\n",
              "    <tr>\n",
              "      <th>17</th>\n",
              "      <td>2020-8-18</td>\n",
              "      <td>18</td>\n",
              "      <td>2766626</td>\n",
              "      <td>2036703</td>\n",
              "      <td>53015</td>\n",
              "    </tr>\n",
              "    <tr>\n",
              "      <th>18</th>\n",
              "      <td>2020-8-19</td>\n",
              "      <td>19</td>\n",
              "      <td>2835822</td>\n",
              "      <td>2096068</td>\n",
              "      <td>53994</td>\n",
              "    </tr>\n",
              "    <tr>\n",
              "      <th>19</th>\n",
              "      <td>2020-8-20</td>\n",
              "      <td>20</td>\n",
              "      <td>2904340</td>\n",
              "      <td>2157941</td>\n",
              "      <td>54975</td>\n",
              "    </tr>\n",
              "    <tr>\n",
              "      <th>20</th>\n",
              "      <td>2020-8-21</td>\n",
              "      <td>21</td>\n",
              "      <td>2973369</td>\n",
              "      <td>2220799</td>\n",
              "      <td>55928</td>\n",
              "    </tr>\n",
              "    <tr>\n",
              "      <th>21</th>\n",
              "      <td>2020-8-22</td>\n",
              "      <td>22</td>\n",
              "      <td>3043436</td>\n",
              "      <td>2279900</td>\n",
              "      <td>56846</td>\n",
              "    </tr>\n",
              "    <tr>\n",
              "      <th>22</th>\n",
              "      <td>2020-8-23</td>\n",
              "      <td>23</td>\n",
              "      <td>3105185</td>\n",
              "      <td>2336796</td>\n",
              "      <td>57692</td>\n",
              "    </tr>\n",
              "    <tr>\n",
              "      <th>23</th>\n",
              "      <td>2020-8-24</td>\n",
              "      <td>24</td>\n",
              "      <td>3164881</td>\n",
              "      <td>2403101</td>\n",
              "      <td>58546</td>\n",
              "    </tr>\n",
              "    <tr>\n",
              "      <th>24</th>\n",
              "      <td>2020-8-25</td>\n",
              "      <td>25</td>\n",
              "      <td>3231754</td>\n",
              "      <td>2467252</td>\n",
              "      <td>59612</td>\n",
              "    </tr>\n",
              "    <tr>\n",
              "      <th>25</th>\n",
              "      <td>2020-8-26</td>\n",
              "      <td>26</td>\n",
              "      <td>3307749</td>\n",
              "      <td>2523443</td>\n",
              "      <td>60629</td>\n",
              "    </tr>\n",
              "    <tr>\n",
              "      <th>26</th>\n",
              "      <td>2020-8-27</td>\n",
              "      <td>27</td>\n",
              "      <td>3384576</td>\n",
              "      <td>2583063</td>\n",
              "      <td>61695</td>\n",
              "    </tr>\n",
              "    <tr>\n",
              "      <th>27</th>\n",
              "      <td>2020-8-28</td>\n",
              "      <td>28</td>\n",
              "      <td>3461233</td>\n",
              "      <td>2647538</td>\n",
              "      <td>62714</td>\n",
              "    </tr>\n",
              "    <tr>\n",
              "      <th>28</th>\n",
              "      <td>2020-8-29</td>\n",
              "      <td>29</td>\n",
              "      <td>3539712</td>\n",
              "      <td>2712520</td>\n",
              "      <td>63657</td>\n",
              "    </tr>\n",
              "    <tr>\n",
              "      <th>29</th>\n",
              "      <td>2020-8-30</td>\n",
              "      <td>30</td>\n",
              "      <td>3619173</td>\n",
              "      <td>2772942</td>\n",
              "      <td>64617</td>\n",
              "    </tr>\n",
              "    <tr>\n",
              "      <th>30</th>\n",
              "      <td>2020-8-31</td>\n",
              "      <td>31</td>\n",
              "      <td>3687939</td>\n",
              "      <td>2837377</td>\n",
              "      <td>65434</td>\n",
              "    </tr>\n",
              "    <tr>\n",
              "      <th>31</th>\n",
              "      <td>2020-9-1</td>\n",
              "      <td>32</td>\n",
              "      <td>3766108</td>\n",
              "      <td>2899522</td>\n",
              "      <td>66460</td>\n",
              "    </tr>\n",
              "    <tr>\n",
              "      <th>32</th>\n",
              "      <td>2020-9-2</td>\n",
              "      <td>33</td>\n",
              "      <td>3848968</td>\n",
              "      <td>2967396</td>\n",
              "      <td>67486</td>\n",
              "    </tr>\n",
              "    <tr>\n",
              "      <th>33</th>\n",
              "      <td>2020-9-3</td>\n",
              "      <td>34</td>\n",
              "      <td>3933124</td>\n",
              "      <td>3034887</td>\n",
              "      <td>68569</td>\n",
              "    </tr>\n",
              "    <tr>\n",
              "      <th>34</th>\n",
              "      <td>2020-9-4</td>\n",
              "      <td>35</td>\n",
              "      <td>4020239</td>\n",
              "      <td>3104512</td>\n",
              "      <td>69635</td>\n",
              "    </tr>\n",
              "    <tr>\n",
              "      <th>35</th>\n",
              "      <td>2020-9-5</td>\n",
              "      <td>36</td>\n",
              "      <td>4110839</td>\n",
              "      <td>3177673</td>\n",
              "      <td>70679</td>\n",
              "    </tr>\n",
              "    <tr>\n",
              "      <th>36</th>\n",
              "      <td>2020-9-6</td>\n",
              "      <td>37</td>\n",
              "      <td>4202562</td>\n",
              "      <td>3247297</td>\n",
              "      <td>71687</td>\n",
              "    </tr>\n",
              "    <tr>\n",
              "      <th>37</th>\n",
              "      <td>2020-9-7</td>\n",
              "      <td>38</td>\n",
              "      <td>4277584</td>\n",
              "      <td>3321420</td>\n",
              "      <td>72816</td>\n",
              "    </tr>\n",
              "    <tr>\n",
              "      <th>38</th>\n",
              "      <td>2020-9-8</td>\n",
              "      <td>39</td>\n",
              "      <td>4367436</td>\n",
              "      <td>3396027</td>\n",
              "      <td>73923</td>\n",
              "    </tr>\n",
              "    <tr>\n",
              "      <th>39</th>\n",
              "      <td>2020-9-9</td>\n",
              "      <td>40</td>\n",
              "      <td>4462965</td>\n",
              "      <td>3469084</td>\n",
              "      <td>75091</td>\n",
              "    </tr>\n",
              "  </tbody>\n",
              "</table>\n",
              "</div>"
            ],
            "text/plain": [
              "          Date   Counting_from_August  ...   Recovered Cases   Deceased Cases\n",
              "0     2020-8-1                      1  ...           1146913            37408\n",
              "1     2020-8-2                      2  ...           1187268            38168\n",
              "2     2020-8-3                      3  ...           1230338            38974\n",
              "3     2020-8-4                      4  ...           1281558            39823\n",
              "4     2020-8-5                      5  ...           1327141            40742\n",
              "5     2020-8-6                      6  ...           1377282            41641\n",
              "6     2020-8-7                      7  ...           1427669            42577\n",
              "7     2020-8-8                      8  ...           1479804            43452\n",
              "8     2020-8-9                      9  ...           1534278            44465\n",
              "9    2020-8-10                     10  ...           1581640            45352\n",
              "10   2020-8-11                     11  ...           1638101            46187\n",
              "11   2020-8-12                     12  ...           1695860            47137\n",
              "12   2020-8-13                     13  ...           1750636            48143\n",
              "13   2020-8-14                     14  ...           1807556            49132\n",
              "14   2020-8-15                     15  ...           1860672            50084\n",
              "15   2020-8-16                     16  ...           1918076            51036\n",
              "16   2020-8-17                     17  ...           1976248            51916\n",
              "17   2020-8-18                     18  ...           2036703            53015\n",
              "18   2020-8-19                     19  ...           2096068            53994\n",
              "19   2020-8-20                     20  ...           2157941            54975\n",
              "20   2020-8-21                     21  ...           2220799            55928\n",
              "21   2020-8-22                     22  ...           2279900            56846\n",
              "22   2020-8-23                     23  ...           2336796            57692\n",
              "23   2020-8-24                     24  ...           2403101            58546\n",
              "24   2020-8-25                     25  ...           2467252            59612\n",
              "25   2020-8-26                     26  ...           2523443            60629\n",
              "26   2020-8-27                     27  ...           2583063            61695\n",
              "27   2020-8-28                     28  ...           2647538            62714\n",
              "28   2020-8-29                     29  ...           2712520            63657\n",
              "29   2020-8-30                     30  ...           2772942            64617\n",
              "30   2020-8-31                     31  ...           2837377            65434\n",
              "31    2020-9-1                     32  ...           2899522            66460\n",
              "32    2020-9-2                     33  ...           2967396            67486\n",
              "33    2020-9-3                     34  ...           3034887            68569\n",
              "34    2020-9-4                     35  ...           3104512            69635\n",
              "35    2020-9-5                     36  ...           3177673            70679\n",
              "36    2020-9-6                     37  ...           3247297            71687\n",
              "37    2020-9-7                     38  ...           3321420            72816\n",
              "38    2020-9-8                     39  ...           3396027            73923\n",
              "39    2020-9-9                     40  ...           3469084            75091\n",
              "\n",
              "[40 rows x 5 columns]"
            ]
          },
          "metadata": {
            "tags": []
          },
          "execution_count": 216
        }
      ]
    },
    {
      "cell_type": "code",
      "metadata": {
        "id": "k-GDPVrj2aQZ"
      },
      "source": [
        "\n",
        "real_x= data.iloc[:,1].values\n",
        "real_y= data.iloc[:,2].values\n",
        "real_x= real_x.reshape(-1,1)\n",
        "real_y= real_y.reshape(-1,1)"
      ],
      "execution_count": 217,
      "outputs": []
    },
    {
      "cell_type": "code",
      "metadata": {
        "id": "PxjHXNsP2dDY"
      },
      "source": [
        "training_x,testing_x,training_y,testing_y = train_test_split(real_x,real_y,test_size=0.3,random_state=0)"
      ],
      "execution_count": 218,
      "outputs": []
    },
    {
      "cell_type": "code",
      "metadata": {
        "colab": {
          "base_uri": "https://localhost:8080/"
        },
        "id": "I4_pAOai2f6V",
        "outputId": "6719af1f-e7aa-4d8c-a106-4a2e0d13124e"
      },
      "source": [
        "Lin= LinearRegression()\n",
        "Lin.fit(training_x,training_y)"
      ],
      "execution_count": 219,
      "outputs": [
        {
          "output_type": "execute_result",
          "data": {
            "text/plain": [
              "LinearRegression(copy_X=True, fit_intercept=True, n_jobs=None, normalize=False)"
            ]
          },
          "metadata": {
            "tags": []
          },
          "execution_count": 219
        }
      ]
    },
    {
      "cell_type": "code",
      "metadata": {
        "id": "cEsGtzTT2h_t"
      },
      "source": [
        "pred_y= Lin.predict(testing_x)"
      ],
      "execution_count": 220,
      "outputs": []
    },
    {
      "cell_type": "code",
      "metadata": {
        "colab": {
          "base_uri": "https://localhost:8080/"
        },
        "id": "tOpAGA-E2j2Q",
        "outputId": "b37f2916-f233-4b4b-f4bd-21c632022d84"
      },
      "source": [
        "\n",
        "testing_x"
      ],
      "execution_count": 221,
      "outputs": [
        {
          "output_type": "execute_result",
          "data": {
            "text/plain": [
              "array([[23],\n",
              "       [21],\n",
              "       [26],\n",
              "       [ 5],\n",
              "       [11],\n",
              "       [16],\n",
              "       [29],\n",
              "       [12],\n",
              "       [19],\n",
              "       [30],\n",
              "       [28],\n",
              "       [36]])"
            ]
          },
          "metadata": {
            "tags": []
          },
          "execution_count": 221
        }
      ]
    },
    {
      "cell_type": "code",
      "metadata": {
        "colab": {
          "base_uri": "https://localhost:8080/"
        },
        "id": "6fgIDHN32loH",
        "outputId": "7c617fd4-40a5-4377-be7b-d990aa082add"
      },
      "source": [
        "testing_y"
      ],
      "execution_count": 222,
      "outputs": [
        {
          "output_type": "execute_result",
          "data": {
            "text/plain": [
              "array([[3105185],\n",
              "       [2973369],\n",
              "       [3307749],\n",
              "       [1963239],\n",
              "       [2328405],\n",
              "       [2647304],\n",
              "       [3539712],\n",
              "       [2395471],\n",
              "       [2835822],\n",
              "       [3619173],\n",
              "       [3461233],\n",
              "       [4110839]])"
            ]
          },
          "metadata": {
            "tags": []
          },
          "execution_count": 222
        }
      ]
    },
    {
      "cell_type": "code",
      "metadata": {
        "colab": {
          "base_uri": "https://localhost:8080/"
        },
        "id": "h0VXpXvR2ncM",
        "outputId": "cd213564-85c4-4863-ab7e-61d54bed1de0"
      },
      "source": [
        "pred_y"
      ],
      "execution_count": 223,
      "outputs": [
        {
          "output_type": "execute_result",
          "data": {
            "text/plain": [
              "array([[3175447.90957585],\n",
              "       [3037702.44787275],\n",
              "       [3382066.10213049],\n",
              "       [1935738.75424801],\n",
              "       [2348975.13935729],\n",
              "       [2693338.79361502],\n",
              "       [3588684.29468513],\n",
              "       [2417847.87020883],\n",
              "       [2899956.98616966],\n",
              "       [3657557.02553668],\n",
              "       [3519811.56383358],\n",
              "       [4070793.41064596]])"
            ]
          },
          "metadata": {
            "tags": []
          },
          "execution_count": 223
        }
      ]
    },
    {
      "cell_type": "code",
      "metadata": {
        "colab": {
          "base_uri": "https://localhost:8080/"
        },
        "id": "1pebN4Yd2pr5",
        "outputId": "6d50d96e-bd89-47bb-d3c8-67ac80dbcedd"
      },
      "source": [
        "\n",
        "Lin.predict([[42]])"
      ],
      "execution_count": 224,
      "outputs": [
        {
          "output_type": "execute_result",
          "data": {
            "text/plain": [
              "array([[4484029.79575524]])"
            ]
          },
          "metadata": {
            "tags": []
          },
          "execution_count": 224
        }
      ]
    },
    {
      "cell_type": "code",
      "metadata": {
        "colab": {
          "base_uri": "https://localhost:8080/"
        },
        "id": "i_VB6_-62rKH",
        "outputId": "12430d21-1618-4766-fd17-ae2603c5ceb9"
      },
      "source": [
        "Lin.predict([[43]])"
      ],
      "execution_count": 225,
      "outputs": [
        {
          "output_type": "execute_result",
          "data": {
            "text/plain": [
              "array([[4552902.52660678]])"
            ]
          },
          "metadata": {
            "tags": []
          },
          "execution_count": 225
        }
      ]
    },
    {
      "cell_type": "code",
      "metadata": {
        "colab": {
          "base_uri": "https://localhost:8080/"
        },
        "id": "3ck8lDWc2s4v",
        "outputId": "ae46f71c-ae18-45f6-db37-a9bb7e4130bf"
      },
      "source": [
        "Lin.predict([[49]])"
      ],
      "execution_count": 226,
      "outputs": [
        {
          "output_type": "execute_result",
          "data": {
            "text/plain": [
              "array([[4966138.91171607]])"
            ]
          },
          "metadata": {
            "tags": []
          },
          "execution_count": 226
        }
      ]
    },
    {
      "cell_type": "code",
      "metadata": {
        "colab": {
          "base_uri": "https://localhost:8080/"
        },
        "id": "itZK8j0R2ud8",
        "outputId": "5d961b8b-0cfa-4024-9c0c-c8284561dcbf"
      },
      "source": [
        "Lin.coef_"
      ],
      "execution_count": 227,
      "outputs": [
        {
          "output_type": "execute_result",
          "data": {
            "text/plain": [
              "array([[68872.73085155]])"
            ]
          },
          "metadata": {
            "tags": []
          },
          "execution_count": 227
        }
      ]
    },
    {
      "cell_type": "code",
      "metadata": {
        "colab": {
          "base_uri": "https://localhost:8080/"
        },
        "id": "lcMS1naT270V",
        "outputId": "eda16328-f01e-475e-c707-1e98d8ee3e21"
      },
      "source": [
        "Lin.intercept_"
      ],
      "execution_count": 228,
      "outputs": [
        {
          "output_type": "execute_result",
          "data": {
            "text/plain": [
              "array([1591375.09999027])"
            ]
          },
          "metadata": {
            "tags": []
          },
          "execution_count": 228
        }
      ]
    },
    {
      "cell_type": "code",
      "metadata": {
        "colab": {
          "base_uri": "https://localhost:8080/"
        },
        "id": "6tSFH53629PQ",
        "outputId": "acc0f153-95b9-4c8a-a2f1-6e4de996a02c"
      },
      "source": [
        "1591375.09999027+68872.73085155*42  # Y= mx+c"
      ],
      "execution_count": 229,
      "outputs": [
        {
          "output_type": "execute_result",
          "data": {
            "text/plain": [
              "4484029.7957553705"
            ]
          },
          "metadata": {
            "tags": []
          },
          "execution_count": 229
        }
      ]
    },
    {
      "cell_type": "code",
      "metadata": {
        "colab": {
          "base_uri": "https://localhost:8080/",
          "height": 295
        },
        "id": "Rb0kdhrq2_2Y",
        "outputId": "c852e048-be34-4114-dc6a-096d39d95ad5"
      },
      "source": [
        "plt.scatter(training_x,training_y,color=\"red\")\n",
        "plt.plot(training_x,Lin.predict(training_x),color=\"blue\")\n",
        "plt.title(\"prediction of Confirmed cases\")\n",
        "plt.xlabel(\"Date from August 1\")\n",
        "plt.ylabel(\"Confirmed cases\")\n",
        "plt.show()"
      ],
      "execution_count": 230,
      "outputs": [
        {
          "output_type": "display_data",
          "data": {
            "image/png": "[encoded data removed]",
            "text/plain": [
              "<Figure size 432x288 with 1 Axes>"
            ]
          },
          "metadata": {
            "tags": [],
            "needs_background": "light"
          }
        }
      ]
    },
    {
      "cell_type": "code",
      "metadata": {
        "colab": {
          "base_uri": "https://localhost:8080/",
          "height": 295
        },
        "id": "JipszjAG3C_r",
        "outputId": "31951967-b652-49b8-fe2d-a75765cb812a"
      },
      "source": [
        "\n",
        "plt.scatter(testing_x,testing_y,color=\"red\")\n",
        "plt.plot(training_x,Lin.predict(training_x),color=\"blue\")\n",
        "plt.title(\"prediction of Confirmed cases\")\n",
        "plt.xlabel(\"Date from August 1\")\n",
        "plt.ylabel(\"Confirmed cases\")\n",
        "plt.show()"
      ],
      "execution_count": 231,
      "outputs": [
        {
          "output_type": "display_data",
          "data": {
            "image/png": "[encoded data removed]",
            "text/plain": [
              "<Figure size 432x288 with 1 Axes>"
            ]
          },
          "metadata": {
            "tags": [],
            "needs_background": "light"
          }
        }
      ]
    },
    {
      "cell_type": "code",
      "metadata": {
        "colab": {
          "base_uri": "https://localhost:8080/"
        },
        "id": "wA3TiUoe3FxK",
        "outputId": "670503cd-2c2f-48f9-fa1d-3aebef56fbdb"
      },
      "source": [
        "r2_score(testing_y,pred_y)*100 #Check Accuracy"
      ],
      "execution_count": 232,
      "outputs": [
        {
          "output_type": "execute_result",
          "data": {
            "text/plain": [
              "99.2631231965683"
            ]
          },
          "metadata": {
            "tags": []
          },
          "execution_count": 232
        }
      ]
    },
    {
      "cell_type": "markdown",
      "metadata": {
        "id": "E1Jn4pW64sIX"
      },
      "source": [
        "\n",
        "# Prediction of Recovered Cases of India Using LINEAR REGRESSION ALGORITHM"
      ]
    },
    {
      "cell_type": "code",
      "metadata": {
        "id": "OEzsNb6j3HqT"
      },
      "source": [
        "real_x= data.iloc[:,1].values\n",
        "real_y= data.iloc[:,3].values\n",
        "real_x= real_x.reshape(-1,1)\n",
        "real_y= real_y.reshape(-1,1)"
      ],
      "execution_count": 233,
      "outputs": []
    },
    {
      "cell_type": "code",
      "metadata": {
        "colab": {
          "base_uri": "https://localhost:8080/"
        },
        "id": "wjpr7T7B3xla",
        "outputId": "76aafb5f-d594-4b63-cad3-c081e0ae6cc0"
      },
      "source": [
        "Lin.predict([[32]])"
      ],
      "execution_count": 234,
      "outputs": [
        {
          "output_type": "execute_result",
          "data": {
            "text/plain": [
              "array([[3795302.48723977]])"
            ]
          },
          "metadata": {
            "tags": []
          },
          "execution_count": 234
        }
      ]
    },
    {
      "cell_type": "code",
      "metadata": {
        "colab": {
          "base_uri": "https://localhost:8080/"
        },
        "id": "GVd90B6B3zyg",
        "outputId": "a62b07b8-0637-43c7-c80e-3336ae415ced"
      },
      "source": [
        "Lin.predict([[42]])"
      ],
      "execution_count": 235,
      "outputs": [
        {
          "output_type": "execute_result",
          "data": {
            "text/plain": [
              "array([[4484029.79575524]])"
            ]
          },
          "metadata": {
            "tags": []
          },
          "execution_count": 235
        }
      ]
    },
    {
      "cell_type": "code",
      "metadata": {
        "colab": {
          "base_uri": "https://localhost:8080/"
        },
        "id": "2HGZpOXy31Xh",
        "outputId": "f46b01f5-9f72-432d-ec5c-244389e38b1e"
      },
      "source": [
        "\n",
        "Lin.predict([[31]])"
      ],
      "execution_count": 236,
      "outputs": [
        {
          "output_type": "execute_result",
          "data": {
            "text/plain": [
              "array([[3726429.75638822]])"
            ]
          },
          "metadata": {
            "tags": []
          },
          "execution_count": 236
        }
      ]
    },
    {
      "cell_type": "code",
      "metadata": {
        "colab": {
          "base_uri": "https://localhost:8080/",
          "height": 295
        },
        "id": "6_iMcEIH33OZ",
        "outputId": "2aae3fb6-76f2-4573-a2ad-df8d2a2cbae1"
      },
      "source": [
        "plt.scatter(training_x,training_y,color=\"red\")\n",
        "plt.plot(training_x,Lin.predict(training_x),color=\"blue\")\n",
        "plt.title(\"prediction of Recovered cases\")\n",
        "plt.xlabel(\"Date from August 1\")\n",
        "plt.ylabel(\"Recovered cases\")\n",
        "plt.show()"
      ],
      "execution_count": 237,
      "outputs": [
        {
          "output_type": "display_data",
          "data": {
            "image/png": "[encoded data removed]",
            "text/plain": [
              "<Figure size 432x288 with 1 Axes>"
            ]
          },
          "metadata": {
            "tags": [],
            "needs_background": "light"
          }
        }
      ]
    },
    {
      "cell_type": "code",
      "metadata": {
        "colab": {
          "base_uri": "https://localhost:8080/",
          "height": 295
        },
        "id": "FShGwpgM38DS",
        "outputId": "008a8d9f-f308-4056-cb49-50fc24920cc1"
      },
      "source": [
        "plt.scatter(testing_x,testing_y,color=\"red\")\n",
        "plt.plot(training_x,Lin.predict(training_x),color=\"blue\")\n",
        "plt.title(\"prediction of Confirmed cases\")\n",
        "plt.xlabel(\"Date from August 1\")\n",
        "plt.ylabel(\"Confirmed cases\")\n",
        "plt.show()"
      ],
      "execution_count": 238,
      "outputs": [
        {
          "output_type": "display_data",
          "data": {
            "image/png": "[encoded data removed]",
            "text/plain": [
              "<Figure size 432x288 with 1 Axes>"
            ]
          },
          "metadata": {
            "tags": [],
            "needs_background": "light"
          }
        }
      ]
    },
    {
      "cell_type": "code",
      "metadata": {
        "colab": {
          "base_uri": "https://localhost:8080/"
        },
        "id": "X6VlwuYv39-8",
        "outputId": "59ee18e5-dbd1-4bb7-e8ae-c4b0fd9f53fd"
      },
      "source": [
        "r2_score(testing_y,pred_y)*100 #Check Accuracy"
      ],
      "execution_count": 239,
      "outputs": [
        {
          "output_type": "execute_result",
          "data": {
            "text/plain": [
              "99.2631231965683"
            ]
          },
          "metadata": {
            "tags": []
          },
          "execution_count": 239
        }
      ]
    },
    {
      "cell_type": "markdown",
      "metadata": {
        "id": "77MWu-Px4l4f"
      },
      "source": [
        "\n",
        "# Prediction of Deceased Cases of India Using LINEAR REGRESSION ALGORITHM"
      ]
    },
    {
      "cell_type": "code",
      "metadata": {
        "id": "vBqWCQez4AOL"
      },
      "source": [
        "real_x= data.iloc[:,1].values\n",
        "real_y= data.iloc[:,4].values\n",
        "real_x= real_x.reshape(-1,1)\n",
        "real_y= real_y.reshape(-1,1)"
      ],
      "execution_count": 240,
      "outputs": []
    },
    {
      "cell_type": "code",
      "metadata": {
        "colab": {
          "base_uri": "https://localhost:8080/"
        },
        "id": "ToCEH-gh4Tjp",
        "outputId": "41c2f986-197c-40c1-d4ac-a6c784a9650a"
      },
      "source": [
        "Lin.predict([[31]])"
      ],
      "execution_count": 241,
      "outputs": [
        {
          "output_type": "execute_result",
          "data": {
            "text/plain": [
              "array([[3726429.75638822]])"
            ]
          },
          "metadata": {
            "tags": []
          },
          "execution_count": 241
        }
      ]
    },
    {
      "cell_type": "code",
      "metadata": {
        "colab": {
          "base_uri": "https://localhost:8080/",
          "height": 295
        },
        "id": "4G7PpZTe4YaP",
        "outputId": "2b6160c3-4057-420f-ecd3-d91ae44af2e9"
      },
      "source": [
        "plt.scatter(training_x,training_y,color=\"red\")\n",
        "plt.plot(training_x,Lin.predict(training_x),color=\"blue\")\n",
        "plt.title(\"prediction of Deceased cases\")\n",
        "plt.xlabel(\"Date from August 1\")\n",
        "plt.ylabel(\"Deceased cases\")\n",
        "plt.show()"
      ],
      "execution_count": 242,
      "outputs": [
        {
          "output_type": "display_data",
          "data": {
            "image/png": "[encoded data removed]",
            "text/plain": [
              "<Figure size 432x288 with 1 Axes>"
            ]
          },
          "metadata": {
            "tags": [],
            "needs_background": "light"
          }
        }
      ]
    },
    {
      "cell_type": "code",
      "metadata": {
        "colab": {
          "base_uri": "https://localhost:8080/",
          "height": 295
        },
        "id": "_WJRbtM_4aOl",
        "outputId": "b49526b5-b8c5-4053-9127-cce8d2375f3b"
      },
      "source": [
        "plt.scatter(testing_x,testing_y,color=\"red\")\n",
        "plt.plot(training_x,Lin.predict(training_x),color=\"blue\")\n",
        "plt.title(\"prediction of Deceased cases\")\n",
        "plt.xlabel(\"Date from August 1\")\n",
        "plt.ylabel(\"Deceased cases\")\n",
        "plt.show()"
      ],
      "execution_count": 243,
      "outputs": [
        {
          "output_type": "display_data",
          "data": {
            "image/png": "[encoded data removed]",
            "text/plain": [
              "<Figure size 432x288 with 1 Axes>"
            ]
          },
          "metadata": {
            "tags": [],
            "needs_background": "light"
          }
        }
      ]
    },
    {
      "cell_type": "code",
      "metadata": {
        "colab": {
          "base_uri": "https://localhost:8080/"
        },
        "id": "f4gP64zk4clJ",
        "outputId": "30b67e52-035b-4d8c-b88f-848b16418f19"
      },
      "source": [
        "r2_score(testing_y,pred_y)*100 #Check Accuracy"
      ],
      "execution_count": 244,
      "outputs": [
        {
          "output_type": "execute_result",
          "data": {
            "text/plain": [
              "99.2631231965683"
            ]
          },
          "metadata": {
            "tags": []
          },
          "execution_count": 244
        }
      ]
    },
    {
      "cell_type": "markdown",
      "metadata": {
        "id": "9ywL5HZZ4_Bm"
      },
      "source": [
        "\n",
        "# Prediction of Confirmed Cases of India using DECISION TREE ALGORITHM"
      ]
    },
    {
      "cell_type": "code",
      "metadata": {
        "colab": {
          "base_uri": "https://localhost:8080/"
        },
        "id": "uM4Azg9W4jJw",
        "outputId": "c6c87027-87c7-4743-98be-23bd71f648d2"
      },
      "source": [
        "de= DecisionTreeRegressor(random_state=0)\n",
        "de.fit(training_x,training_y)"
      ],
      "execution_count": 245,
      "outputs": [
        {
          "output_type": "execute_result",
          "data": {
            "text/plain": [
              "DecisionTreeRegressor(ccp_alpha=0.0, criterion='mse', max_depth=None,\n",
              "                      max_features=None, max_leaf_nodes=None,\n",
              "                      min_impurity_decrease=0.0, min_impurity_split=None,\n",
              "                      min_samples_leaf=1, min_samples_split=2,\n",
              "                      min_weight_fraction_leaf=0.0, presort='deprecated',\n",
              "                      random_state=0, splitter='best')"
            ]
          },
          "metadata": {
            "tags": []
          },
          "execution_count": 245
        }
      ]
    },
    {
      "cell_type": "code",
      "metadata": {
        "id": "Hme72LrV5E6J"
      },
      "source": [
        "y_predict= de.predict(testing_x)"
      ],
      "execution_count": 246,
      "outputs": []
    },
    {
      "cell_type": "code",
      "metadata": {
        "colab": {
          "base_uri": "https://localhost:8080/"
        },
        "id": "y7kfHaFI5Tlg",
        "outputId": "28b0c7fb-8cf2-46f0-b5e1-0ac6843dd052"
      },
      "source": [
        "testing_y"
      ],
      "execution_count": 247,
      "outputs": [
        {
          "output_type": "execute_result",
          "data": {
            "text/plain": [
              "array([[3105185],\n",
              "       [2973369],\n",
              "       [3307749],\n",
              "       [1963239],\n",
              "       [2328405],\n",
              "       [2647304],\n",
              "       [3539712],\n",
              "       [2395471],\n",
              "       [2835822],\n",
              "       [3619173],\n",
              "       [3461233],\n",
              "       [4110839]])"
            ]
          },
          "metadata": {
            "tags": []
          },
          "execution_count": 247
        }
      ]
    },
    {
      "cell_type": "code",
      "metadata": {
        "colab": {
          "base_uri": "https://localhost:8080/"
        },
        "id": "NDUQRjqX5Vbn",
        "outputId": "1d462962-8748-4ff8-8136-428f6cff221a"
      },
      "source": [
        "y_predict"
      ],
      "execution_count": 248,
      "outputs": [
        {
          "output_type": "execute_result",
          "data": {
            "text/plain": [
              "array([3043436., 2904340., 3231754., 1906613., 2267153., 2589208.,\n",
              "       3384576., 2459612., 2766626., 3687939., 3384576., 4020239.])"
            ]
          },
          "metadata": {
            "tags": []
          },
          "execution_count": 248
        }
      ]
    },
    {
      "cell_type": "code",
      "metadata": {
        "colab": {
          "base_uri": "https://localhost:8080/",
          "height": 295
        },
        "id": "N5IcQBAk5XKp",
        "outputId": "08fc21f7-6eb9-4ab0-c09c-3116ce08207d"
      },
      "source": [
        "x_grid= np.arange(min(training_x),max(training_x),0.01)\n",
        "x_grid= x_grid.reshape((len(x_grid),1))\n",
        "plt.scatter(training_x,training_y, color=\"red\")\n",
        "plt.plot(x_grid,de.predict(x_grid),color=\"blue\")\n",
        "plt.title(\"India's Confirmed Cases\")\n",
        "plt.xlabel(\"Date from 1 August\")\n",
        "plt.ylabel(\"Number of confirmed cases\")\n",
        "plt.show()"
      ],
      "execution_count": 249,
      "outputs": [
        {
          "output_type": "display_data",
          "data": {
            "image/png": "[encoded data removed]",
            "text/plain": [
              "<Figure size 432x288 with 1 Axes>"
            ]
          },
          "metadata": {
            "tags": [],
            "needs_background": "light"
          }
        }
      ]
    },
    {
      "cell_type": "code",
      "metadata": {
        "colab": {
          "base_uri": "https://localhost:8080/",
          "height": 295
        },
        "id": "zfkEMf-K5Y-T",
        "outputId": "1ea278b1-7f5e-4866-82a6-ca4e65c0bf53"
      },
      "source": [
        "\n",
        "x_grid= np.arange(min(testing_x),max(testing_x),0.01)\n",
        "x_grid= x_grid.reshape((len(x_grid),1))\n",
        "plt.scatter(testing_x,testing_y, color=\"red\")\n",
        "plt.plot(x_grid,de.predict(x_grid),color=\"blue\")\n",
        "plt.title(\"India's Confirmed Cases\")\n",
        "plt.xlabel(\"Date from 1 August\")\n",
        "plt.ylabel(\"Number of confirmed cases\")\n",
        "plt.show()"
      ],
      "execution_count": 250,
      "outputs": [
        {
          "output_type": "display_data",
          "data": {
            "image/png": "[encoded data removed]",
            "text/plain": [
              "<Figure size 432x288 with 1 Axes>"
            ]
          },
          "metadata": {
            "tags": [],
            "needs_background": "light"
          }
        }
      ]
    },
    {
      "cell_type": "code",
      "metadata": {
        "colab": {
          "base_uri": "https://localhost:8080/"
        },
        "id": "mLcCzRj65atV",
        "outputId": "eff8ae5b-2343-4e25-c5fe-f87fde78d603"
      },
      "source": [
        "r2_score(testing_y,y_predict)*100 #Check Accuracy"
      ],
      "execution_count": 251,
      "outputs": [
        {
          "output_type": "execute_result",
          "data": {
            "text/plain": [
              "98.20649124584749"
            ]
          },
          "metadata": {
            "tags": []
          },
          "execution_count": 251
        }
      ]
    },
    {
      "cell_type": "markdown",
      "metadata": {
        "id": "DNYx-Xfx5rFN"
      },
      "source": [
        "\n",
        "# Prediction of Recovered Cases of India using DECISION TREE ALGORITHM"
      ]
    },
    {
      "cell_type": "code",
      "metadata": {
        "colab": {
          "base_uri": "https://localhost:8080/"
        },
        "id": "OIcJjFtu578l",
        "outputId": "47db2df8-5ebb-4c7d-fc6a-1e5dc75fb8c6"
      },
      "source": [
        "de.predict([[31]])"
      ],
      "execution_count": 252,
      "outputs": [
        {
          "output_type": "execute_result",
          "data": {
            "text/plain": [
              "array([3687939.])"
            ]
          },
          "metadata": {
            "tags": []
          },
          "execution_count": 252
        }
      ]
    },
    {
      "cell_type": "code",
      "metadata": {
        "colab": {
          "base_uri": "https://localhost:8080/",
          "height": 295
        },
        "id": "osZp1_r159gt",
        "outputId": "32574584-29a6-4eb9-a3f6-0d93c57e3782"
      },
      "source": [
        "x_grid= np.arange(min(training_x),max(training_x),0.01)\n",
        "x_grid= x_grid.reshape((len(x_grid),1))\n",
        "plt.scatter(training_x,training_y, color=\"red\")\n",
        "plt.plot(x_grid,de.predict(x_grid),color=\"blue\")\n",
        "plt.title(\"India's Recovered Cases\")\n",
        "plt.xlabel(\"Date from 1 August\")\n",
        "plt.ylabel(\"Number of Recovered cases\")\n",
        "plt.show()"
      ],
      "execution_count": 253,
      "outputs": [
        {
          "output_type": "display_data",
          "data": {
            "image/png": "[encoded data removed]",
            "text/plain": [
              "<Figure size 432x288 with 1 Axes>"
            ]
          },
          "metadata": {
            "tags": [],
            "needs_background": "light"
          }
        }
      ]
    },
    {
      "cell_type": "code",
      "metadata": {
        "colab": {
          "base_uri": "https://localhost:8080/",
          "height": 295
        },
        "id": "ntwwgg4a5_Dr",
        "outputId": "5e8d3e4c-4b29-414e-aade-9b64f1e485b7"
      },
      "source": [
        "x_grid= np.arange(min(testing_x),max(testing_x),0.01)\n",
        "x_grid= x_grid.reshape((len(x_grid),1))\n",
        "plt.scatter(testing_x,testing_y, color=\"red\")\n",
        "plt.plot(x_grid,de.predict(x_grid),color=\"blue\")\n",
        "plt.title(\"India's Recovered Cases\")\n",
        "plt.xlabel(\"Date from 1 August\")\n",
        "plt.ylabel(\"Number of Recovered cases\")\n",
        "plt.show()"
      ],
      "execution_count": 254,
      "outputs": [
        {
          "output_type": "display_data",
          "data": {
            "image/png": "[encoded data removed]",
            "text/plain": [
              "<Figure size 432x288 with 1 Axes>"
            ]
          },
          "metadata": {
            "tags": [],
            "needs_background": "light"
          }
        }
      ]
    },
    {
      "cell_type": "code",
      "metadata": {
        "colab": {
          "base_uri": "https://localhost:8080/"
        },
        "id": "PJb6cRP-6BPK",
        "outputId": "4ee72809-7951-4eb2-aaf4-6c08f648f071"
      },
      "source": [
        "r2_score(testing_y,y_predict)*100 #Check Accuracy"
      ],
      "execution_count": 255,
      "outputs": [
        {
          "output_type": "execute_result",
          "data": {
            "text/plain": [
              "98.20649124584749"
            ]
          },
          "metadata": {
            "tags": []
          },
          "execution_count": 255
        }
      ]
    },
    {
      "cell_type": "markdown",
      "metadata": {
        "id": "kA-_SstO78rr"
      },
      "source": [
        "# Prediction of Deceased Cases of India using DECISION TREE ALGORITHM"
      ]
    },
    {
      "cell_type": "code",
      "metadata": {
        "colab": {
          "base_uri": "https://localhost:8080/",
          "height": 295
        },
        "id": "Ej6qG_oA6P3N",
        "outputId": "66ce322c-5a8a-4bf0-c8d4-6b9af1e66242"
      },
      "source": [
        "x_grid= np.arange(min(training_x),max(training_x),0.01)\n",
        "x_grid= x_grid.reshape((len(x_grid),1))\n",
        "plt.scatter(training_x,training_y, color=\"red\")\n",
        "plt.plot(x_grid,de.predict(x_grid),color=\"blue\")\n",
        "plt.title(\"India's Deceased Cases\")\n",
        "plt.xlabel(\"Date from 1 August\")\n",
        "plt.ylabel(\"Number of Deceased cases\")\n",
        "plt.show()"
      ],
      "execution_count": 256,
      "outputs": [
        {
          "output_type": "display_data",
          "data": {
            "image/png": "[encoded data removed]",
            "text/plain": [
              "<Figure size 432x288 with 1 Axes>"
            ]
          },
          "metadata": {
            "tags": [],
            "needs_background": "light"
          }
        }
      ]
    },
    {
      "cell_type": "code",
      "metadata": {
        "colab": {
          "base_uri": "https://localhost:8080/",
          "height": 295
        },
        "id": "Ss2sEWeh6RTl",
        "outputId": "b5822c4e-4ff7-4df5-c92a-efbd2899e541"
      },
      "source": [
        "x_grid= np.arange(min(testing_x),max(testing_x),0.01)\n",
        "x_grid= x_grid.reshape((len(x_grid),1))\n",
        "plt.scatter(testing_x,testing_y, color=\"red\")\n",
        "plt.plot(x_grid,de.predict(x_grid),color=\"blue\")\n",
        "plt.title(\"India's Deceased Cases\")\n",
        "plt.xlabel(\"Date from 1 August\")\n",
        "plt.ylabel(\"Number of Deceased cases\")\n",
        "plt.show()"
      ],
      "execution_count": 257,
      "outputs": [
        {
          "output_type": "display_data",
          "data": {
            "image/png": "[encoded data removed]",
            "text/plain": [
              "<Figure size 432x288 with 1 Axes>"
            ]
          },
          "metadata": {
            "tags": [],
            "needs_background": "light"
          }
        }
      ]
    },
    {
      "cell_type": "code",
      "metadata": {
        "colab": {
          "base_uri": "https://localhost:8080/"
        },
        "id": "k3OKh0Hn6S_J",
        "outputId": "b3965f41-d1d3-4d69-c50a-191ba7011480"
      },
      "source": [
        "r2_score(testing_y,y_predict)*100 #Check Accuracy"
      ],
      "execution_count": 258,
      "outputs": [
        {
          "output_type": "execute_result",
          "data": {
            "text/plain": [
              "98.20649124584749"
            ]
          },
          "metadata": {
            "tags": []
          },
          "execution_count": 258
        }
      ]
    },
    {
      "cell_type": "markdown",
      "metadata": {
        "id": "tZOzb04q8XzF"
      },
      "source": [
        "# Prediction of Confirmed Cases of India Using Random_Forest"
      ]
    },
    {
      "cell_type": "code",
      "metadata": {
        "id": "0NoQt8uQ6Ul4"
      },
      "source": [
        "real_x= data.iloc[:,1].values\n",
        "real_y= data.iloc[:,2].values\n",
        "real_x= real_x.reshape(-1,1)\n",
        "real_y= real_y.reshape(-1,1)"
      ],
      "execution_count": 259,
      "outputs": []
    },
    {
      "cell_type": "code",
      "metadata": {
        "id": "5kcyADLy8xRZ"
      },
      "source": [
        "training_x,testing_x,training_y,testing_y = train_test_split(real_x,real_y,test_size=0.2,random_state=0)"
      ],
      "execution_count": 260,
      "outputs": []
    },
    {
      "cell_type": "code",
      "metadata": {
        "colab": {
          "base_uri": "https://localhost:8080/"
        },
        "id": "rylqQ6no8zHa",
        "outputId": "15795e38-2a92-4c18-c676-7d30117b9205"
      },
      "source": [
        "ran= RandomForestRegressor( n_estimators=1000,random_state=0)\n",
        "ran.fit(training_x,training_y)"
      ],
      "execution_count": 261,
      "outputs": [
        {
          "output_type": "stream",
          "text": [
            "/usr/local/lib/python3.7/dist-packages/ipykernel_launcher.py:2: DataConversionWarning: A column-vector y was passed when a 1d array was expected. Please change the shape of y to (n_samples,), for example using ravel().\n",
            "  \n"
          ],
          "name": "stderr"
        },
        {
          "output_type": "execute_result",
          "data": {
            "text/plain": [
              "RandomForestRegressor(bootstrap=True, ccp_alpha=0.0, criterion='mse',\n",
              "                      max_depth=None, max_features='auto', max_leaf_nodes=None,\n",
              "                      max_samples=None, min_impurity_decrease=0.0,\n",
              "                      min_impurity_split=None, min_samples_leaf=1,\n",
              "                      min_samples_split=2, min_weight_fraction_leaf=0.0,\n",
              "                      n_estimators=1000, n_jobs=None, oob_score=False,\n",
              "                      random_state=0, verbose=0, warm_start=False)"
            ]
          },
          "metadata": {
            "tags": []
          },
          "execution_count": 261
        }
      ]
    },
    {
      "cell_type": "code",
      "metadata": {
        "id": "3sy24oTJ80_u"
      },
      "source": [
        "y_pred= ran.predict(testing_x)"
      ],
      "execution_count": 262,
      "outputs": []
    },
    {
      "cell_type": "code",
      "metadata": {
        "colab": {
          "base_uri": "https://localhost:8080/"
        },
        "id": "qZrvnEJq9EPl",
        "outputId": "8e638bbb-fb22-4470-9718-7773234f56ff"
      },
      "source": [
        "testing_y"
      ],
      "execution_count": 263,
      "outputs": [
        {
          "output_type": "execute_result",
          "data": {
            "text/plain": [
              "array([[3105185],\n",
              "       [2973369],\n",
              "       [3307749],\n",
              "       [1963239],\n",
              "       [2328405],\n",
              "       [2647304],\n",
              "       [3539712],\n",
              "       [2395471]])"
            ]
          },
          "metadata": {
            "tags": []
          },
          "execution_count": 263
        }
      ]
    },
    {
      "cell_type": "code",
      "metadata": {
        "colab": {
          "base_uri": "https://localhost:8080/"
        },
        "id": "OPEHtV8C9F22",
        "outputId": "951af6e5-cb54-4539-dbdc-9e9dbd9563f4"
      },
      "source": [
        "y_pred"
      ],
      "execution_count": 264,
      "outputs": [
        {
          "output_type": "execute_result",
          "data": {
            "text/plain": [
              "array([3082803.881, 2930668.402, 3262513.975, 1933405.8  , 2267770.319,\n",
              "       2614037.404, 3500907.112, 2415116.758])"
            ]
          },
          "metadata": {
            "tags": []
          },
          "execution_count": 264
        }
      ]
    },
    {
      "cell_type": "code",
      "metadata": {
        "colab": {
          "base_uri": "https://localhost:8080/"
        },
        "id": "A-5JPSPY9HT9",
        "outputId": "a2f089a3-def9-4d75-b626-bb50e0da2ba0"
      },
      "source": [
        "ran.predict([[42]])"
      ],
      "execution_count": 265,
      "outputs": [
        {
          "output_type": "execute_result",
          "data": {
            "text/plain": [
              "array([4407950.521])"
            ]
          },
          "metadata": {
            "tags": []
          },
          "execution_count": 265
        }
      ]
    },
    {
      "cell_type": "code",
      "metadata": {
        "colab": {
          "base_uri": "https://localhost:8080/",
          "height": 295
        },
        "id": "YfRh-dYO9Jkx",
        "outputId": "64e8b80e-9a93-47ec-a283-4a0a20c58ac5"
      },
      "source": [
        "\n",
        "x_grid= np.arange(min(training_x),max(training_x),0.01)\n",
        "x_grid= x_grid.reshape((len(x_grid),1))\n",
        "plt.scatter(training_x,training_y, color=\"red\")\n",
        "plt.plot(x_grid,ran.predict(x_grid),color=\"blue\")\n",
        "plt.title(\"India's Confirmed Cases\")\n",
        "plt.xlabel(\"Date from 1 August\")\n",
        "plt.ylabel(\"Number of confirmed cases\")\n",
        "plt.show()"
      ],
      "execution_count": 266,
      "outputs": [
        {
          "output_type": "display_data",
          "data": {
            "image/png": "[encoded data removed]",
            "text/plain": [
              "<Figure size 432x288 with 1 Axes>"
            ]
          },
          "metadata": {
            "tags": [],
            "needs_background": "light"
          }
        }
      ]
    },
    {
      "cell_type": "code",
      "metadata": {
        "colab": {
          "base_uri": "https://localhost:8080/",
          "height": 295
        },
        "id": "pavb5CHs9LBR",
        "outputId": "acfe6fc3-9f87-4950-b614-a8fef6062a1c"
      },
      "source": [
        "x_grid= np.arange(min(testing_x),max(testing_x),0.01)\n",
        "x_grid= x_grid.reshape((len(x_grid),1))\n",
        "plt.scatter(testing_x,testing_y, color=\"red\")\n",
        "plt.plot(x_grid,ran.predict(x_grid),color=\"blue\")\n",
        "plt.title(\"India's Confirmed Cases\")\n",
        "plt.xlabel(\"Date from 1 april\")\n",
        "plt.ylabel(\"Number of confirmed cases\")\n",
        "plt.show()"
      ],
      "execution_count": 267,
      "outputs": [
        {
          "output_type": "display_data",
          "data": {
            "image/png": "[encoded data removed]",
            "text/plain": [
              "<Figure size 432x288 with 1 Axes>"
            ]
          },
          "metadata": {
            "tags": [],
            "needs_background": "light"
          }
        }
      ]
    },
    {
      "cell_type": "code",
      "metadata": {
        "colab": {
          "base_uri": "https://localhost:8080/"
        },
        "id": "QsFA4Vm_9M4G",
        "outputId": "babc641a-27c0-42a8-ad80-3061f08ad2ed"
      },
      "source": [
        "r2_score(testing_y,y_pred)*100 #Check Accuracy"
      ],
      "execution_count": 268,
      "outputs": [
        {
          "output_type": "execute_result",
          "data": {
            "text/plain": [
              "99.41356825715462"
            ]
          },
          "metadata": {
            "tags": []
          },
          "execution_count": 268
        }
      ]
    },
    {
      "cell_type": "markdown",
      "metadata": {
        "id": "M_50KfkX9W06"
      },
      "source": [
        "# Prediction of Recovered Cases of India using Random Forest"
      ]
    },
    {
      "cell_type": "code",
      "metadata": {
        "id": "HGbERRrv9OyT"
      },
      "source": [
        "real_x= data.iloc[:,1].values\n",
        "real_y= data.iloc[:,3].values\n",
        "real_x= real_x.reshape(-1,1)\n",
        "real_y= real_y.reshape(-1,1)"
      ],
      "execution_count": 269,
      "outputs": []
    },
    {
      "cell_type": "code",
      "metadata": {
        "colab": {
          "base_uri": "https://localhost:8080/",
          "height": 295
        },
        "id": "mr2n4Suw9g_s",
        "outputId": "db27c331-3003-4551-987c-ede583b46dd9"
      },
      "source": [
        "x_grid= np.arange(min(training_x),max(training_x),0.01)\n",
        "x_grid= x_grid.reshape((len(x_grid),1))\n",
        "plt.scatter(training_x,training_y, color=\"red\")\n",
        "plt.plot(x_grid,ran.predict(x_grid),color=\"blue\")\n",
        "plt.title(\"India's Recovered Cases\")\n",
        "plt.xlabel(\"Date from 1 August\")\n",
        "plt.ylabel(\"Number of Recovered cases\")\n",
        "plt.show()"
      ],
      "execution_count": 270,
      "outputs": [
        {
          "output_type": "display_data",
          "data": {
            "image/png": "[encoded data removed]",
            "text/plain": [
              "<Figure size 432x288 with 1 Axes>"
            ]
          },
          "metadata": {
            "tags": [],
            "needs_background": "light"
          }
        }
      ]
    },
    {
      "cell_type": "code",
      "metadata": {
        "colab": {
          "base_uri": "https://localhost:8080/",
          "height": 295
        },
        "id": "LjpyXbog9ouY",
        "outputId": "ae2a69bc-36b8-48aa-e760-457970179998"
      },
      "source": [
        "x_grid= np.arange(min(testing_x),max(testing_x),0.01)\n",
        "x_grid= x_grid.reshape((len(x_grid),1))\n",
        "plt.scatter(testing_x,testing_y, color=\"red\")\n",
        "plt.plot(x_grid,ran.predict(x_grid),color=\"blue\")\n",
        "plt.title(\"India's Recovered Cases\")\n",
        "plt.xlabel(\"Date from 1 August\")\n",
        "plt.ylabel(\"Number of Recovered cases\")\n",
        "plt.show()"
      ],
      "execution_count": 271,
      "outputs": [
        {
          "output_type": "display_data",
          "data": {
            "image/png": "[encoded data removed]",
            "text/plain": [
              "<Figure size 432x288 with 1 Axes>"
            ]
          },
          "metadata": {
            "tags": [],
            "needs_background": "light"
          }
        }
      ]
    },
    {
      "cell_type": "code",
      "metadata": {
        "colab": {
          "base_uri": "https://localhost:8080/"
        },
        "id": "nCarkiPZ9q2h",
        "outputId": "442aed80-1d47-4338-f6b4-6ead75caa74a"
      },
      "source": [
        "\n",
        "r2_score(testing_y,y_pred)*100 #Check Accuracy"
      ],
      "execution_count": 272,
      "outputs": [
        {
          "output_type": "execute_result",
          "data": {
            "text/plain": [
              "99.41356825715462"
            ]
          },
          "metadata": {
            "tags": []
          },
          "execution_count": 272
        }
      ]
    },
    {
      "cell_type": "code",
      "metadata": {
        "id": "7HHwjDRo9tFJ"
      },
      "source": [
        ""
      ],
      "execution_count": null,
      "outputs": []
    }
  ]
}